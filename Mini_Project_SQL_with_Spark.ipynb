{
 "cells": [
  {
   "cell_type": "markdown",
   "metadata": {
    "application/vnd.databricks.v1+cell": {
     "cellMetadata": {
      "byteLimit": 2048000,
      "rowLimit": 10000
     },
     "inputWidgets": {},
     "nuid": "ca2617cd-2496-4e57-b13d-ab5347360f2f",
     "showTitle": false,
     "title": ""
    }
   },
   "source": [
    "## SQL at Scale with Spark SQL\n",
    "\n",
    "Welcome to the SQL mini project. For this project, you will use the Databricks Platform and work through a series of exercises using Spark SQL. The dataset size may not be too big but the intent here is to familiarize yourself with the Spark SQL interface which scales easily to huge datasets, without you having to worry about changing your SQL queries. \n",
    "\n",
    "The data you need is present in the mini-project folder in the form of three CSV files. This data will be imported in Databricks to create the following tables under the __`country_club`__ database.\n",
    "\n",
    "<br>\n",
    "1. The __`bookings`__ table,\n",
    "2. The __`facilities`__ table, and\n",
    "3. The __`members`__ table.\n",
    "\n",
    "You will be uploading these datasets shortly into the Databricks platform to understand how to create a database within minutes! Once the database and the tables are populated, you will be focusing on the mini-project questions.\n",
    "\n",
    "In the mini project, you'll be asked a series of questions. You can solve them using the databricks platform, but for the final deliverable,\n",
    "please download this notebook as an IPython notebook (__`File -> Export -> IPython Notebook`__) and upload it to your GitHub."
   ]
  },
  {
   "cell_type": "markdown",
   "metadata": {
    "application/vnd.databricks.v1+cell": {
     "cellMetadata": {
      "byteLimit": 2048000,
      "rowLimit": 10000
     },
     "inputWidgets": {},
     "nuid": "7ea35b81-fafb-4d43-9445-42022371df01",
     "showTitle": false,
     "title": ""
    }
   },
   "source": [
    "### Creating the Database\n",
    "\n",
    "We will first create our database in which we will be creating our three tables of interest"
   ]
  },
  {
   "cell_type": "code",
   "execution_count": 0,
   "metadata": {
    "application/vnd.databricks.v1+cell": {
     "cellMetadata": {
      "byteLimit": 2048000,
      "implicitDf": true,
      "rowLimit": 10000
     },
     "inputWidgets": {},
     "nuid": "0ec0c6ba-1792-4053-8db1-15e995da3362",
     "showTitle": false,
     "title": ""
    }
   },
   "outputs": [
    {
     "output_type": "display_data",
     "data": {
      "text/html": [
       "<style scoped>\n",
       "  .table-result-container {\n",
       "    max-height: 300px;\n",
       "    overflow: auto;\n",
       "  }\n",
       "  table, th, td {\n",
       "    border: 1px solid black;\n",
       "    border-collapse: collapse;\n",
       "  }\n",
       "  th, td {\n",
       "    padding: 5px;\n",
       "  }\n",
       "  th {\n",
       "    text-align: left;\n",
       "  }\n",
       "</style><div class='table-result-container'><table class='table-result'><thead style='background-color: white'><tr><th>databaseName</th></tr></thead><tbody><tr><td>country_club</td></tr><tr><td>default</td></tr></tbody></table></div>"
      ]
     },
     "metadata": {
      "application/vnd.databricks.v1+output": {
       "addedWidgets": {},
       "aggData": [],
       "aggError": "",
       "aggOverflow": false,
       "aggSchema": [],
       "aggSeriesLimitReached": false,
       "aggType": "",
       "arguments": {},
       "columnCustomDisplayInfos": {},
       "data": [
        [
         "country_club"
        ],
        [
         "default"
        ]
       ],
       "datasetInfos": [],
       "dbfsResultPath": null,
       "isJsonSchema": true,
       "metadata": {},
       "overflow": false,
       "plotOptions": {
        "customPlotOptions": {},
        "displayType": "table",
        "pivotAggregation": null,
        "pivotColumns": null,
        "xColumns": null,
        "yColumns": null
       },
       "removedWidgets": [],
       "schema": [
        {
         "metadata": "{}",
         "name": "databaseName",
         "type": "\"string\""
        }
       ],
       "type": "table"
      }
     },
     "output_type": "display_data"
    }
   ],
   "source": [
    "%sql \n",
    "drop database if exists country_club cascade;\n",
    "create database country_club;\n",
    "show databases;"
   ]
  },
  {
   "cell_type": "markdown",
   "metadata": {
    "application/vnd.databricks.v1+cell": {
     "cellMetadata": {
      "byteLimit": 2048000,
      "rowLimit": 10000
     },
     "inputWidgets": {},
     "nuid": "2ad75622-1de8-4ce2-b4d7-9ad8daf02877",
     "showTitle": false,
     "title": ""
    }
   },
   "source": [
    "### Creating the Tables\n",
    "\n",
    "In this section, we will be creating the three tables of interest and populate them with the data from the CSV files already available to you. \n",
    "To get started, first upload the three CSV files to the DBFS as depicted in the following figure\n",
    "\n",
    "![](https://i.imgur.com/QcCruBr.png)\n",
    "\n",
    "\n",
    "Once you have done this, please remember to execute the following code to build the dataframes which will be saved as tables in our database"
   ]
  },
  {
   "cell_type": "code",
   "execution_count": 0,
   "metadata": {
    "application/vnd.databricks.v1+cell": {
     "cellMetadata": {
      "byteLimit": 2048000,
      "rowLimit": 10000
     },
     "inputWidgets": {},
     "nuid": "afbf426e-3c1c-49d3-b447-072bf4310635",
     "showTitle": false,
     "title": ""
    }
   },
   "outputs": [],
   "source": [
    "# File location and type\n",
    "file_location_bookings = \"/FileStore/tables/Bookings.csv\"\n",
    "file_location_facilities = \"/FileStore/tables/Facilities.csv\"\n",
    "file_location_members = \"/FileStore/tables/Members.csv\"\n",
    "\n",
    "file_type = \"csv\"\n",
    "\n",
    "# CSV options\n",
    "infer_schema = \"true\"\n",
    "first_row_is_header = \"true\"\n",
    "delimiter = \",\"\n",
    "\n",
    "# The applied options are for CSV files. For other file types, these will be ignored.\n",
    "bookings_df = (spark.read.format(file_type) \n",
    "                    .option(\"inferSchema\", infer_schema) \n",
    "                    .option(\"header\", first_row_is_header) \n",
    "                    .option(\"sep\", delimiter) \n",
    "                    .load(file_location_bookings))\n",
    "\n",
    "facilities_df = (spark.read.format(file_type) \n",
    "                      .option(\"inferSchema\", infer_schema) \n",
    "                      .option(\"header\", first_row_is_header) \n",
    "                      .option(\"sep\", delimiter) \n",
    "                      .load(file_location_facilities))\n",
    "\n",
    "members_df = (spark.read.format(file_type) \n",
    "                      .option(\"inferSchema\", infer_schema) \n",
    "                      .option(\"header\", first_row_is_header) \n",
    "                      .option(\"sep\", delimiter) \n",
    "                      .load(file_location_members))"
   ]
  },
  {
   "cell_type": "markdown",
   "metadata": {
    "application/vnd.databricks.v1+cell": {
     "cellMetadata": {
      "byteLimit": 2048000,
      "rowLimit": 10000
     },
     "inputWidgets": {},
     "nuid": "c4919d76-f957-4ac6-a604-b05b80b801cf",
     "showTitle": false,
     "title": ""
    }
   },
   "source": [
    "### Viewing the dataframe schemas\n",
    "\n",
    "We can take a look at the schemas of our potential tables to be written to our database soon"
   ]
  },
  {
   "cell_type": "code",
   "execution_count": 0,
   "metadata": {
    "application/vnd.databricks.v1+cell": {
     "cellMetadata": {
      "byteLimit": 2048000,
      "rowLimit": 10000
     },
     "inputWidgets": {},
     "nuid": "cf92a087-9290-4d54-b793-7ae3b57fcefa",
     "showTitle": false,
     "title": ""
    }
   },
   "outputs": [
    {
     "output_type": "stream",
     "name": "stdout",
     "output_type": "stream",
     "text": [
      "Bookings Schema\nroot\n |-- bookid: integer (nullable = true)\n |-- facid: integer (nullable = true)\n |-- memid: integer (nullable = true)\n |-- starttime: timestamp (nullable = true)\n |-- slots: integer (nullable = true)\n\nFacilities Schema\nroot\n |-- facid: integer (nullable = true)\n |-- name: string (nullable = true)\n |-- membercost: double (nullable = true)\n |-- guestcost: double (nullable = true)\n |-- initialoutlay: integer (nullable = true)\n |-- monthlymaintenance: integer (nullable = true)\n\nMembers Schema\nroot\n |-- memid: integer (nullable = true)\n |-- surname: string (nullable = true)\n |-- firstname: string (nullable = true)\n |-- address: string (nullable = true)\n |-- zipcode: integer (nullable = true)\n |-- telephone: string (nullable = true)\n |-- recommendedby: integer (nullable = true)\n |-- joindate: timestamp (nullable = true)\n\n"
     ]
    }
   ],
   "source": [
    "print('Bookings Schema')\n",
    "bookings_df.printSchema()\n",
    "print('Facilities Schema')\n",
    "facilities_df.printSchema()\n",
    "print('Members Schema')\n",
    "members_df.printSchema()"
   ]
  },
  {
   "cell_type": "markdown",
   "metadata": {
    "application/vnd.databricks.v1+cell": {
     "cellMetadata": {
      "byteLimit": 2048000,
      "rowLimit": 10000
     },
     "inputWidgets": {},
     "nuid": "45c5a004-339c-4b8c-879d-8ba76d94c515",
     "showTitle": false,
     "title": ""
    }
   },
   "source": [
    "### Create permanent tables\n",
    "We will be creating three permanent tables here in our __`country_club`__ database as we discussed previously with the following code"
   ]
  },
  {
   "cell_type": "code",
   "execution_count": 0,
   "metadata": {
    "application/vnd.databricks.v1+cell": {
     "cellMetadata": {
      "byteLimit": 2048000,
      "rowLimit": 10000
     },
     "inputWidgets": {},
     "nuid": "154f00d8-2116-43c2-b9a2-eaff6124479d",
     "showTitle": false,
     "title": ""
    }
   },
   "outputs": [],
   "source": [
    "permanent_table_name_bookings = \"country_club.Bookings\"\n",
    "bookings_df.write.format(\"parquet\").saveAsTable(permanent_table_name_bookings)\n",
    "\n",
    "permanent_table_name_facilities = \"country_club.Facilities\"\n",
    "facilities_df.write.format(\"parquet\").saveAsTable(permanent_table_name_facilities)\n",
    "\n",
    "permanent_table_name_members = \"country_club.Members\"\n",
    "members_df.write.format(\"parquet\").saveAsTable(permanent_table_name_members)"
   ]
  },
  {
   "cell_type": "markdown",
   "metadata": {
    "application/vnd.databricks.v1+cell": {
     "cellMetadata": {
      "byteLimit": 2048000,
      "rowLimit": 10000
     },
     "inputWidgets": {},
     "nuid": "a14341bf-3cf3-490e-9ab6-721963962dad",
     "showTitle": false,
     "title": ""
    }
   },
   "source": [
    "### Refresh tables and check them"
   ]
  },
  {
   "cell_type": "code",
   "execution_count": 0,
   "metadata": {
    "application/vnd.databricks.v1+cell": {
     "cellMetadata": {
      "byteLimit": 2048000,
      "implicitDf": true,
      "rowLimit": 10000
     },
     "inputWidgets": {},
     "nuid": "1b90faa9-d6b4-45ad-b073-2ebe4d7e1ed9",
     "showTitle": false,
     "title": ""
    }
   },
   "outputs": [
    {
     "output_type": "display_data",
     "data": {
      "text/html": [
       "<style scoped>\n",
       "  .table-result-container {\n",
       "    max-height: 300px;\n",
       "    overflow: auto;\n",
       "  }\n",
       "  table, th, td {\n",
       "    border: 1px solid black;\n",
       "    border-collapse: collapse;\n",
       "  }\n",
       "  th, td {\n",
       "    padding: 5px;\n",
       "  }\n",
       "  th {\n",
       "    text-align: left;\n",
       "  }\n",
       "</style><div class='table-result-container'><table class='table-result'><thead style='background-color: white'><tr><th>database</th><th>tableName</th><th>isTemporary</th></tr></thead><tbody><tr><td>country_club</td><td>bookings</td><td>false</td></tr><tr><td>country_club</td><td>facilities</td><td>false</td></tr><tr><td>country_club</td><td>members</td><td>false</td></tr></tbody></table></div>"
      ]
     },
     "metadata": {
      "application/vnd.databricks.v1+output": {
       "addedWidgets": {},
       "aggData": [],
       "aggError": "",
       "aggOverflow": false,
       "aggSchema": [],
       "aggSeriesLimitReached": false,
       "aggType": "",
       "arguments": {},
       "columnCustomDisplayInfos": {},
       "data": [
        [
         "country_club",
         "bookings",
         false
        ],
        [
         "country_club",
         "facilities",
         false
        ],
        [
         "country_club",
         "members",
         false
        ]
       ],
       "datasetInfos": [],
       "dbfsResultPath": null,
       "isJsonSchema": true,
       "metadata": {},
       "overflow": false,
       "plotOptions": {
        "customPlotOptions": {},
        "displayType": "table",
        "pivotAggregation": null,
        "pivotColumns": null,
        "xColumns": null,
        "yColumns": null
       },
       "removedWidgets": [],
       "schema": [
        {
         "metadata": "{}",
         "name": "database",
         "type": "\"string\""
        },
        {
         "metadata": "{}",
         "name": "tableName",
         "type": "\"string\""
        },
        {
         "metadata": "{}",
         "name": "isTemporary",
         "type": "\"boolean\""
        }
       ],
       "type": "table"
      }
     },
     "output_type": "display_data"
    }
   ],
   "source": [
    "%sql\n",
    "use country_club;\n",
    "REFRESH table bookings;\n",
    "REFRESH table facilities;\n",
    "REFRESH table members;\n",
    "show tables;"
   ]
  },
  {
   "cell_type": "markdown",
   "metadata": {
    "application/vnd.databricks.v1+cell": {
     "cellMetadata": {
      "byteLimit": 2048000,
      "rowLimit": 10000
     },
     "inputWidgets": {},
     "nuid": "7c975884-1582-4735-92e5-d088b75e15fd",
     "showTitle": false,
     "title": ""
    }
   },
   "source": [
    "### Test a sample SQL query\n",
    "\n",
    "__Note:__ You can use __`%sql`__ at the beginning of a cell and write SQL queries directly as seen in the following cell. Neat isn't it!"
   ]
  },
  {
   "cell_type": "code",
   "execution_count": 0,
   "metadata": {
    "application/vnd.databricks.v1+cell": {
     "cellMetadata": {
      "byteLimit": 2048000,
      "implicitDf": true,
      "rowLimit": 10000
     },
     "inputWidgets": {},
     "nuid": "3bb485a4-2f82-46cb-9a27-4d7e8fddc90b",
     "showTitle": false,
     "title": ""
    }
   },
   "outputs": [
    {
     "output_type": "display_data",
     "data": {
      "text/html": [
       "<style scoped>\n",
       "  .table-result-container {\n",
       "    max-height: 300px;\n",
       "    overflow: auto;\n",
       "  }\n",
       "  table, th, td {\n",
       "    border: 1px solid black;\n",
       "    border-collapse: collapse;\n",
       "  }\n",
       "  th, td {\n",
       "    padding: 5px;\n",
       "  }\n",
       "  th {\n",
       "    text-align: left;\n",
       "  }\n",
       "</style><div class='table-result-container'><table class='table-result'><thead style='background-color: white'><tr><th>bookid</th><th>facid</th><th>memid</th><th>starttime</th><th>slots</th></tr></thead><tbody><tr><td>0</td><td>3</td><td>1</td><td>2012-07-03T11:00:00.000+0000</td><td>2</td></tr><tr><td>1</td><td>4</td><td>1</td><td>2012-07-03T08:00:00.000+0000</td><td>2</td></tr><tr><td>2</td><td>6</td><td>0</td><td>2012-07-03T18:00:00.000+0000</td><td>2</td></tr></tbody></table></div>"
      ]
     },
     "metadata": {
      "application/vnd.databricks.v1+output": {
       "addedWidgets": {},
       "aggData": [],
       "aggError": "",
       "aggOverflow": false,
       "aggSchema": [],
       "aggSeriesLimitReached": false,
       "aggType": "",
       "arguments": {},
       "columnCustomDisplayInfos": {},
       "data": [
        [
         0,
         3,
         1,
         "2012-07-03T11:00:00.000+0000",
         2
        ],
        [
         1,
         4,
         1,
         "2012-07-03T08:00:00.000+0000",
         2
        ],
        [
         2,
         6,
         0,
         "2012-07-03T18:00:00.000+0000",
         2
        ]
       ],
       "datasetInfos": [],
       "dbfsResultPath": null,
       "isJsonSchema": true,
       "metadata": {},
       "overflow": false,
       "plotOptions": {
        "customPlotOptions": {},
        "displayType": "table",
        "pivotAggregation": null,
        "pivotColumns": null,
        "xColumns": null,
        "yColumns": null
       },
       "removedWidgets": [],
       "schema": [
        {
         "metadata": "{}",
         "name": "bookid",
         "type": "\"integer\""
        },
        {
         "metadata": "{}",
         "name": "facid",
         "type": "\"integer\""
        },
        {
         "metadata": "{}",
         "name": "memid",
         "type": "\"integer\""
        },
        {
         "metadata": "{}",
         "name": "starttime",
         "type": "\"timestamp\""
        },
        {
         "metadata": "{}",
         "name": "slots",
         "type": "\"integer\""
        }
       ],
       "type": "table"
      }
     },
     "output_type": "display_data"
    }
   ],
   "source": [
    "%sql\n",
    "select * from bookings limit 3"
   ]
  },
  {
   "cell_type": "markdown",
   "metadata": {
    "application/vnd.databricks.v1+cell": {
     "cellMetadata": {
      "byteLimit": 2048000,
      "rowLimit": 10000
     },
     "inputWidgets": {},
     "nuid": "0cbac6b8-cf7b-4fa8-8729-ab7a95a5bb9d",
     "showTitle": false,
     "title": ""
    }
   },
   "source": [
    "#### Q1: Some of the facilities charge a fee to members, but some do not. Please list the names of the facilities that do."
   ]
  },
  {
   "cell_type": "code",
   "execution_count": 0,
   "metadata": {
    "application/vnd.databricks.v1+cell": {
     "cellMetadata": {
      "byteLimit": 2048000,
      "implicitDf": true,
      "rowLimit": 10000
     },
     "inputWidgets": {},
     "nuid": "0bfa6188-be3f-48af-a630-8a9c1dbdbc05",
     "showTitle": false,
     "title": ""
    }
   },
   "outputs": [
    {
     "output_type": "display_data",
     "data": {
      "text/html": [
       "<style scoped>\n",
       "  .table-result-container {\n",
       "    max-height: 300px;\n",
       "    overflow: auto;\n",
       "  }\n",
       "  table, th, td {\n",
       "    border: 1px solid black;\n",
       "    border-collapse: collapse;\n",
       "  }\n",
       "  th, td {\n",
       "    padding: 5px;\n",
       "  }\n",
       "  th {\n",
       "    text-align: left;\n",
       "  }\n",
       "</style><div class='table-result-container'><table class='table-result'><thead style='background-color: white'><tr><th>facid</th></tr></thead><tbody><tr><td>2</td></tr><tr><td>3</td></tr><tr><td>7</td></tr><tr><td>8</td></tr></tbody></table></div>"
      ]
     },
     "metadata": {
      "application/vnd.databricks.v1+output": {
       "addedWidgets": {},
       "aggData": [],
       "aggError": "",
       "aggOverflow": false,
       "aggSchema": [],
       "aggSeriesLimitReached": false,
       "aggType": "",
       "arguments": {},
       "columnCustomDisplayInfos": {},
       "data": [
        [
         2
        ],
        [
         3
        ],
        [
         7
        ],
        [
         8
        ]
       ],
       "datasetInfos": [],
       "dbfsResultPath": null,
       "isJsonSchema": true,
       "metadata": {},
       "overflow": false,
       "plotOptions": {
        "customPlotOptions": {},
        "displayType": "table",
        "pivotAggregation": null,
        "pivotColumns": null,
        "xColumns": null,
        "yColumns": null
       },
       "removedWidgets": [],
       "schema": [
        {
         "metadata": "{}",
         "name": "facid",
         "type": "\"integer\""
        }
       ],
       "type": "table"
      }
     },
     "output_type": "display_data"
    }
   ],
   "source": [
    "%sql\n",
    "select facid\n",
    "from facilities\n",
    "where membercost = 0;"
   ]
  },
  {
   "cell_type": "markdown",
   "metadata": {
    "application/vnd.databricks.v1+cell": {
     "cellMetadata": {
      "byteLimit": 2048000,
      "rowLimit": 10000
     },
     "inputWidgets": {},
     "nuid": "629b734c-717b-42c7-a9be-39c044e96a3c",
     "showTitle": false,
     "title": ""
    }
   },
   "source": [
    "####  Q2: How many facilities do not charge a fee to members?"
   ]
  },
  {
   "cell_type": "code",
   "execution_count": 0,
   "metadata": {
    "application/vnd.databricks.v1+cell": {
     "cellMetadata": {
      "byteLimit": 2048000,
      "implicitDf": true,
      "rowLimit": 10000
     },
     "inputWidgets": {},
     "nuid": "518bf5da-e736-42d6-b94d-f093ffc2493e",
     "showTitle": false,
     "title": ""
    }
   },
   "outputs": [
    {
     "output_type": "display_data",
     "data": {
      "text/html": [
       "<style scoped>\n",
       "  .table-result-container {\n",
       "    max-height: 300px;\n",
       "    overflow: auto;\n",
       "  }\n",
       "  table, th, td {\n",
       "    border: 1px solid black;\n",
       "    border-collapse: collapse;\n",
       "  }\n",
       "  th, td {\n",
       "    padding: 5px;\n",
       "  }\n",
       "  th {\n",
       "    text-align: left;\n",
       "  }\n",
       "</style><div class='table-result-container'><table class='table-result'><thead style='background-color: white'><tr><th>count(facid)</th></tr></thead><tbody><tr><td>4</td></tr></tbody></table></div>"
      ]
     },
     "metadata": {
      "application/vnd.databricks.v1+output": {
       "addedWidgets": {},
       "aggData": [],
       "aggError": "",
       "aggOverflow": false,
       "aggSchema": [],
       "aggSeriesLimitReached": false,
       "aggType": "",
       "arguments": {},
       "columnCustomDisplayInfos": {},
       "data": [
        [
         4
        ]
       ],
       "datasetInfos": [],
       "dbfsResultPath": null,
       "isJsonSchema": true,
       "metadata": {},
       "overflow": false,
       "plotOptions": {
        "customPlotOptions": {},
        "displayType": "table",
        "pivotAggregation": null,
        "pivotColumns": null,
        "xColumns": null,
        "yColumns": null
       },
       "removedWidgets": [],
       "schema": [
        {
         "metadata": "{\"__autoGeneratedAlias\":\"true\"}",
         "name": "count(facid)",
         "type": "\"long\""
        }
       ],
       "type": "table"
      }
     },
     "output_type": "display_data"
    }
   ],
   "source": [
    "%sql\n",
    "select COUNT(facid)\n",
    "from facilities\n",
    "where membercost = 0;"
   ]
  },
  {
   "cell_type": "markdown",
   "metadata": {
    "application/vnd.databricks.v1+cell": {
     "cellMetadata": {
      "byteLimit": 2048000,
      "rowLimit": 10000
     },
     "inputWidgets": {},
     "nuid": "1d93f082-6083-4571-9a49-c20934d0bc13",
     "showTitle": false,
     "title": ""
    }
   },
   "source": [
    "#### Q3: How can you produce a list of facilities that charge a fee to members, where the fee is less than 20% of the facility's monthly maintenance cost? \n",
    "#### Return the facid, facility name, member cost, and monthly maintenance of the facilities in question."
   ]
  },
  {
   "cell_type": "code",
   "execution_count": 0,
   "metadata": {
    "application/vnd.databricks.v1+cell": {
     "cellMetadata": {
      "byteLimit": 2048000,
      "implicitDf": true,
      "rowLimit": 10000
     },
     "inputWidgets": {},
     "nuid": "a3726fc3-4ccb-4f34-b924-e513da659fae",
     "showTitle": false,
     "title": ""
    }
   },
   "outputs": [
    {
     "output_type": "display_data",
     "data": {
      "text/html": [
       "<style scoped>\n",
       "  .table-result-container {\n",
       "    max-height: 300px;\n",
       "    overflow: auto;\n",
       "  }\n",
       "  table, th, td {\n",
       "    border: 1px solid black;\n",
       "    border-collapse: collapse;\n",
       "  }\n",
       "  th, td {\n",
       "    padding: 5px;\n",
       "  }\n",
       "  th {\n",
       "    text-align: left;\n",
       "  }\n",
       "</style><div class='table-result-container'><table class='table-result'><thead style='background-color: white'><tr><th>facid</th><th>name</th><th>membercost</th><th>monthlymaintenance</th></tr></thead><tbody><tr><td>0</td><td>Tennis Court 1</td><td>5.0</td><td>200</td></tr><tr><td>1</td><td>Tennis Court 2</td><td>5.0</td><td>200</td></tr><tr><td>2</td><td>Badminton Court</td><td>0.0</td><td>50</td></tr><tr><td>3</td><td>Table Tennis</td><td>0.0</td><td>10</td></tr><tr><td>4</td><td>Massage Room 1</td><td>9.9</td><td>3000</td></tr><tr><td>5</td><td>Massage Room 2</td><td>9.9</td><td>3000</td></tr><tr><td>6</td><td>Squash Court</td><td>3.5</td><td>80</td></tr><tr><td>7</td><td>Snooker Table</td><td>0.0</td><td>15</td></tr><tr><td>8</td><td>Pool Table</td><td>0.0</td><td>15</td></tr></tbody></table></div>"
      ]
     },
     "metadata": {
      "application/vnd.databricks.v1+output": {
       "addedWidgets": {},
       "aggData": [],
       "aggError": "",
       "aggOverflow": false,
       "aggSchema": [],
       "aggSeriesLimitReached": false,
       "aggType": "",
       "arguments": {},
       "columnCustomDisplayInfos": {},
       "data": [
        [
         0,
         "Tennis Court 1",
         5.0,
         200
        ],
        [
         1,
         "Tennis Court 2",
         5.0,
         200
        ],
        [
         2,
         "Badminton Court",
         0.0,
         50
        ],
        [
         3,
         "Table Tennis",
         0.0,
         10
        ],
        [
         4,
         "Massage Room 1",
         9.9,
         3000
        ],
        [
         5,
         "Massage Room 2",
         9.9,
         3000
        ],
        [
         6,
         "Squash Court",
         3.5,
         80
        ],
        [
         7,
         "Snooker Table",
         0.0,
         15
        ],
        [
         8,
         "Pool Table",
         0.0,
         15
        ]
       ],
       "datasetInfos": [],
       "dbfsResultPath": null,
       "isJsonSchema": true,
       "metadata": {},
       "overflow": false,
       "plotOptions": {
        "customPlotOptions": {},
        "displayType": "table",
        "pivotAggregation": null,
        "pivotColumns": null,
        "xColumns": null,
        "yColumns": null
       },
       "removedWidgets": [],
       "schema": [
        {
         "metadata": "{}",
         "name": "facid",
         "type": "\"integer\""
        },
        {
         "metadata": "{}",
         "name": "name",
         "type": "\"string\""
        },
        {
         "metadata": "{}",
         "name": "membercost",
         "type": "\"double\""
        },
        {
         "metadata": "{}",
         "name": "monthlymaintenance",
         "type": "\"integer\""
        }
       ],
       "type": "table"
      }
     },
     "output_type": "display_data"
    }
   ],
   "source": [
    "%sql\n",
    "select facid, name, membercost, monthlymaintenance\n",
    "from facilities\n",
    "where membercost < 0.2*monthlymaintenance;"
   ]
  },
  {
   "cell_type": "markdown",
   "metadata": {
    "application/vnd.databricks.v1+cell": {
     "cellMetadata": {
      "byteLimit": 2048000,
      "rowLimit": 10000
     },
     "inputWidgets": {},
     "nuid": "9ac965f1-492a-438d-922b-9537c8c484f7",
     "showTitle": false,
     "title": ""
    }
   },
   "source": [
    "#### Q4: How can you retrieve the details of facilities with ID 1 and 5? Write the query without using the OR operator."
   ]
  },
  {
   "cell_type": "code",
   "execution_count": 0,
   "metadata": {
    "application/vnd.databricks.v1+cell": {
     "cellMetadata": {
      "byteLimit": 2048000,
      "implicitDf": true,
      "rowLimit": 10000
     },
     "inputWidgets": {},
     "nuid": "a0604c71-0b68-4b2e-b15c-f129e4cd6f95",
     "showTitle": false,
     "title": ""
    }
   },
   "outputs": [
    {
     "output_type": "display_data",
     "data": {
      "text/html": [
       "<style scoped>\n",
       "  .table-result-container {\n",
       "    max-height: 300px;\n",
       "    overflow: auto;\n",
       "  }\n",
       "  table, th, td {\n",
       "    border: 1px solid black;\n",
       "    border-collapse: collapse;\n",
       "  }\n",
       "  th, td {\n",
       "    padding: 5px;\n",
       "  }\n",
       "  th {\n",
       "    text-align: left;\n",
       "  }\n",
       "</style><div class='table-result-container'><table class='table-result'><thead style='background-color: white'><tr><th>facid</th><th>name</th><th>membercost</th><th>guestcost</th><th>initialoutlay</th><th>monthlymaintenance</th></tr></thead><tbody><tr><td>1</td><td>Tennis Court 2</td><td>5.0</td><td>25.0</td><td>8000</td><td>200</td></tr><tr><td>5</td><td>Massage Room 2</td><td>9.9</td><td>80.0</td><td>4000</td><td>3000</td></tr></tbody></table></div>"
      ]
     },
     "metadata": {
      "application/vnd.databricks.v1+output": {
       "addedWidgets": {},
       "aggData": [],
       "aggError": "",
       "aggOverflow": false,
       "aggSchema": [],
       "aggSeriesLimitReached": false,
       "aggType": "",
       "arguments": {},
       "columnCustomDisplayInfos": {},
       "data": [
        [
         1,
         "Tennis Court 2",
         5.0,
         25.0,
         8000,
         200
        ],
        [
         5,
         "Massage Room 2",
         9.9,
         80.0,
         4000,
         3000
        ]
       ],
       "datasetInfos": [],
       "dbfsResultPath": null,
       "isJsonSchema": true,
       "metadata": {},
       "overflow": false,
       "plotOptions": {
        "customPlotOptions": {},
        "displayType": "table",
        "pivotAggregation": null,
        "pivotColumns": null,
        "xColumns": null,
        "yColumns": null
       },
       "removedWidgets": [],
       "schema": [
        {
         "metadata": "{}",
         "name": "facid",
         "type": "\"integer\""
        },
        {
         "metadata": "{}",
         "name": "name",
         "type": "\"string\""
        },
        {
         "metadata": "{}",
         "name": "membercost",
         "type": "\"double\""
        },
        {
         "metadata": "{}",
         "name": "guestcost",
         "type": "\"double\""
        },
        {
         "metadata": "{}",
         "name": "initialoutlay",
         "type": "\"integer\""
        },
        {
         "metadata": "{}",
         "name": "monthlymaintenance",
         "type": "\"integer\""
        }
       ],
       "type": "table"
      }
     },
     "output_type": "display_data"
    }
   ],
   "source": [
    "%sql\n",
    "select *\n",
    "from facilities\n",
    "where facid in (1, 5);"
   ]
  },
  {
   "cell_type": "markdown",
   "metadata": {
    "application/vnd.databricks.v1+cell": {
     "cellMetadata": {
      "byteLimit": 2048000,
      "rowLimit": 10000
     },
     "inputWidgets": {},
     "nuid": "dedf8e44-b87c-4e2c-9c2a-67a5056dc542",
     "showTitle": false,
     "title": ""
    }
   },
   "source": [
    "#### Q5: How can you produce a list of facilities, with each labelled as 'cheap' or 'expensive', depending on if their monthly maintenance cost is more than $100? \n",
    "#### Return the name and monthly maintenance of the facilities in question."
   ]
  },
  {
   "cell_type": "code",
   "execution_count": 0,
   "metadata": {
    "application/vnd.databricks.v1+cell": {
     "cellMetadata": {
      "byteLimit": 2048000,
      "implicitDf": true,
      "rowLimit": 10000
     },
     "inputWidgets": {},
     "nuid": "408759b9-4c3a-45ca-ad9d-adffa6a9bfc4",
     "showTitle": false,
     "title": ""
    }
   },
   "outputs": [
    {
     "output_type": "display_data",
     "data": {
      "text/html": [
       "<style scoped>\n",
       "  .table-result-container {\n",
       "    max-height: 300px;\n",
       "    overflow: auto;\n",
       "  }\n",
       "  table, th, td {\n",
       "    border: 1px solid black;\n",
       "    border-collapse: collapse;\n",
       "  }\n",
       "  th, td {\n",
       "    padding: 5px;\n",
       "  }\n",
       "  th {\n",
       "    text-align: left;\n",
       "  }\n",
       "</style><div class='table-result-container'><table class='table-result'><thead style='background-color: white'><tr><th>name</th><th>monthlymaintenance</th><th>facilityType</th></tr></thead><tbody><tr><td>Tennis Court 1</td><td>200</td><td>expensive</td></tr><tr><td>Tennis Court 2</td><td>200</td><td>expensive</td></tr><tr><td>Massage Room 1</td><td>3000</td><td>expensive</td></tr><tr><td>Massage Room 2</td><td>3000</td><td>expensive</td></tr></tbody></table></div>"
      ]
     },
     "metadata": {
      "application/vnd.databricks.v1+output": {
       "addedWidgets": {},
       "aggData": [],
       "aggError": "",
       "aggOverflow": false,
       "aggSchema": [],
       "aggSeriesLimitReached": false,
       "aggType": "",
       "arguments": {},
       "columnCustomDisplayInfos": {},
       "data": [
        [
         "Tennis Court 1",
         200,
         "expensive"
        ],
        [
         "Tennis Court 2",
         200,
         "expensive"
        ],
        [
         "Massage Room 1",
         3000,
         "expensive"
        ],
        [
         "Massage Room 2",
         3000,
         "expensive"
        ]
       ],
       "datasetInfos": [],
       "dbfsResultPath": null,
       "isJsonSchema": true,
       "metadata": {},
       "overflow": false,
       "plotOptions": {
        "customPlotOptions": {},
        "displayType": "table",
        "pivotAggregation": null,
        "pivotColumns": null,
        "xColumns": null,
        "yColumns": null
       },
       "removedWidgets": [],
       "schema": [
        {
         "metadata": "{}",
         "name": "name",
         "type": "\"string\""
        },
        {
         "metadata": "{}",
         "name": "monthlymaintenance",
         "type": "\"integer\""
        },
        {
         "metadata": "{}",
         "name": "facilityType",
         "type": "\"string\""
        }
       ],
       "type": "table"
      }
     },
     "output_type": "display_data"
    }
   ],
   "source": [
    "%sql\n",
    "select name, monthlymaintenance,\n",
    "case\n",
    "  when monthlymaintenance > 100 then 'expensive'\n",
    "  else 'cheap'\n",
    "end facilityType\n",
    "from facilities\n",
    "where monthlymaintenance > 100;"
   ]
  },
  {
   "cell_type": "markdown",
   "metadata": {
    "application/vnd.databricks.v1+cell": {
     "cellMetadata": {
      "byteLimit": 2048000,
      "rowLimit": 10000
     },
     "inputWidgets": {},
     "nuid": "68c321f5-b1a5-41bd-a509-79a73493b171",
     "showTitle": false,
     "title": ""
    }
   },
   "source": [
    "#### Q6: You'd like to get the first and last name of the last member(s) who signed up. Do not use the LIMIT clause for your solution."
   ]
  },
  {
   "cell_type": "code",
   "execution_count": 0,
   "metadata": {
    "application/vnd.databricks.v1+cell": {
     "cellMetadata": {
      "byteLimit": 2048000,
      "implicitDf": true,
      "rowLimit": 10000
     },
     "inputWidgets": {},
     "nuid": "e1a737a1-a665-47c5-8c6d-6e1561b48376",
     "showTitle": false,
     "title": ""
    }
   },
   "outputs": [
    {
     "output_type": "display_data",
     "data": {
      "text/html": [
       "<style scoped>\n",
       "  .table-result-container {\n",
       "    max-height: 300px;\n",
       "    overflow: auto;\n",
       "  }\n",
       "  table, th, td {\n",
       "    border: 1px solid black;\n",
       "    border-collapse: collapse;\n",
       "  }\n",
       "  th, td {\n",
       "    padding: 5px;\n",
       "  }\n",
       "  th {\n",
       "    text-align: left;\n",
       "  }\n",
       "</style><div class='table-result-container'><table class='table-result'><thead style='background-color: white'><tr><th>firstname</th><th>surname</th></tr></thead><tbody><tr><td>Darren</td><td>Smith</td></tr></tbody></table></div>"
      ]
     },
     "metadata": {
      "application/vnd.databricks.v1+output": {
       "addedWidgets": {},
       "aggData": [],
       "aggError": "",
       "aggOverflow": false,
       "aggSchema": [],
       "aggSeriesLimitReached": false,
       "aggType": "",
       "arguments": {},
       "columnCustomDisplayInfos": {},
       "data": [
        [
         "Darren",
         "Smith"
        ]
       ],
       "datasetInfos": [],
       "dbfsResultPath": null,
       "isJsonSchema": true,
       "metadata": {},
       "overflow": false,
       "plotOptions": {
        "customPlotOptions": {},
        "displayType": "table",
        "pivotAggregation": null,
        "pivotColumns": null,
        "xColumns": null,
        "yColumns": null
       },
       "removedWidgets": [],
       "schema": [
        {
         "metadata": "{}",
         "name": "firstname",
         "type": "\"string\""
        },
        {
         "metadata": "{}",
         "name": "surname",
         "type": "\"string\""
        }
       ],
       "type": "table"
      }
     },
     "output_type": "display_data"
    }
   ],
   "source": [
    "%sql\n",
    "select firstname, surname\n",
    "from members\n",
    "where joindate = (\n",
    "    select max(joindate) \n",
    "    from members\n",
    ");"
   ]
  },
  {
   "cell_type": "markdown",
   "metadata": {
    "application/vnd.databricks.v1+cell": {
     "cellMetadata": {
      "byteLimit": 2048000,
      "rowLimit": 10000
     },
     "inputWidgets": {},
     "nuid": "b701d468-1f84-48a6-848c-134416d0d6ac",
     "showTitle": false,
     "title": ""
    }
   },
   "source": [
    "####  Q7: How can you produce a list of all members who have used a tennis court?\n",
    "- Include in your output the name of the court, and the name of the member formatted as a single column. \n",
    "- Ensure no duplicate data\n",
    "- Also order by the member name."
   ]
  },
  {
   "cell_type": "code",
   "execution_count": 0,
   "metadata": {
    "application/vnd.databricks.v1+cell": {
     "cellMetadata": {
      "byteLimit": 2048000,
      "implicitDf": true,
      "rowLimit": 10000
     },
     "inputWidgets": {},
     "nuid": "b0f85def-bd66-46ab-a3a1-ffedb5400146",
     "showTitle": false,
     "title": ""
    }
   },
   "outputs": [
    {
     "output_type": "display_data",
     "data": {
      "text/html": [
       "<style scoped>\n",
       "  .table-result-container {\n",
       "    max-height: 300px;\n",
       "    overflow: auto;\n",
       "  }\n",
       "  table, th, td {\n",
       "    border: 1px solid black;\n",
       "    border-collapse: collapse;\n",
       "  }\n",
       "  th, td {\n",
       "    padding: 5px;\n",
       "  }\n",
       "  th {\n",
       "    text-align: left;\n",
       "  }\n",
       "</style><div class='table-result-container'><table class='table-result'><thead style='background-color: white'><tr><th>courtName</th><th>memberName</th></tr></thead><tbody><tr><td>Tennis Court 2</td><td>Anne Baker</td></tr><tr><td>Tennis Court 1</td><td>Anne Baker</td></tr><tr><td>Tennis Court 2</td><td>Burton Tracy</td></tr><tr><td>Tennis Court 1</td><td>Burton Tracy</td></tr><tr><td>Tennis Court 1</td><td>Charles Owen</td></tr><tr><td>Tennis Court 2</td><td>Charles Owen</td></tr><tr><td>Tennis Court 2</td><td>Darren Smith</td></tr><tr><td>Tennis Court 2</td><td>David Farrell</td></tr><tr><td>Tennis Court 1</td><td>David Farrell</td></tr><tr><td>Tennis Court 2</td><td>David Jones</td></tr><tr><td>Tennis Court 1</td><td>David Jones</td></tr><tr><td>Tennis Court 1</td><td>David Pinker</td></tr><tr><td>Tennis Court 1</td><td>Douglas Jones</td></tr><tr><td>Tennis Court 1</td><td>Erica Crumpet</td></tr><tr><td>Tennis Court 1</td><td>Florence Bader</td></tr><tr><td>Tennis Court 2</td><td>Florence Bader</td></tr><tr><td>Tennis Court 2</td><td>GUEST GUEST</td></tr><tr><td>Tennis Court 1</td><td>GUEST GUEST</td></tr><tr><td>Tennis Court 2</td><td>Gerald Butters</td></tr><tr><td>Tennis Court 1</td><td>Gerald Butters</td></tr><tr><td>Tennis Court 2</td><td>Henrietta Rumney</td></tr><tr><td>Tennis Court 1</td><td>Jack Smith</td></tr><tr><td>Tennis Court 2</td><td>Jack Smith</td></tr><tr><td>Tennis Court 2</td><td>Janice Joplette</td></tr><tr><td>Tennis Court 1</td><td>Janice Joplette</td></tr><tr><td>Tennis Court 1</td><td>Jemima Farrell</td></tr><tr><td>Tennis Court 2</td><td>Jemima Farrell</td></tr><tr><td>Tennis Court 1</td><td>Joan Coplin</td></tr><tr><td>Tennis Court 1</td><td>John Hunt</td></tr><tr><td>Tennis Court 2</td><td>John Hunt</td></tr><tr><td>Tennis Court 1</td><td>Matthew Genting</td></tr><tr><td>Tennis Court 2</td><td>Millicent Purview</td></tr><tr><td>Tennis Court 1</td><td>Nancy Dare</td></tr><tr><td>Tennis Court 2</td><td>Nancy Dare</td></tr><tr><td>Tennis Court 1</td><td>Ponder Stibbons</td></tr><tr><td>Tennis Court 2</td><td>Ponder Stibbons</td></tr><tr><td>Tennis Court 2</td><td>Ramnaresh Sarwin</td></tr><tr><td>Tennis Court 1</td><td>Ramnaresh Sarwin</td></tr><tr><td>Tennis Court 1</td><td>Tim Boothe</td></tr><tr><td>Tennis Court 2</td><td>Tim Boothe</td></tr><tr><td>Tennis Court 1</td><td>Tim Rownam</td></tr><tr><td>Tennis Court 2</td><td>Tim Rownam</td></tr><tr><td>Tennis Court 2</td><td>Timothy Baker</td></tr><tr><td>Tennis Court 1</td><td>Timothy Baker</td></tr><tr><td>Tennis Court 2</td><td>Tracy Smith</td></tr><tr><td>Tennis Court 1</td><td>Tracy Smith</td></tr></tbody></table></div>"
      ]
     },
     "metadata": {
      "application/vnd.databricks.v1+output": {
       "addedWidgets": {},
       "aggData": [],
       "aggError": "",
       "aggOverflow": false,
       "aggSchema": [],
       "aggSeriesLimitReached": false,
       "aggType": "",
       "arguments": {},
       "columnCustomDisplayInfos": {},
       "data": [
        [
         "Tennis Court 2",
         "Anne Baker"
        ],
        [
         "Tennis Court 1",
         "Anne Baker"
        ],
        [
         "Tennis Court 2",
         "Burton Tracy"
        ],
        [
         "Tennis Court 1",
         "Burton Tracy"
        ],
        [
         "Tennis Court 1",
         "Charles Owen"
        ],
        [
         "Tennis Court 2",
         "Charles Owen"
        ],
        [
         "Tennis Court 2",
         "Darren Smith"
        ],
        [
         "Tennis Court 2",
         "David Farrell"
        ],
        [
         "Tennis Court 1",
         "David Farrell"
        ],
        [
         "Tennis Court 2",
         "David Jones"
        ],
        [
         "Tennis Court 1",
         "David Jones"
        ],
        [
         "Tennis Court 1",
         "David Pinker"
        ],
        [
         "Tennis Court 1",
         "Douglas Jones"
        ],
        [
         "Tennis Court 1",
         "Erica Crumpet"
        ],
        [
         "Tennis Court 1",
         "Florence Bader"
        ],
        [
         "Tennis Court 2",
         "Florence Bader"
        ],
        [
         "Tennis Court 2",
         "GUEST GUEST"
        ],
        [
         "Tennis Court 1",
         "GUEST GUEST"
        ],
        [
         "Tennis Court 2",
         "Gerald Butters"
        ],
        [
         "Tennis Court 1",
         "Gerald Butters"
        ],
        [
         "Tennis Court 2",
         "Henrietta Rumney"
        ],
        [
         "Tennis Court 1",
         "Jack Smith"
        ],
        [
         "Tennis Court 2",
         "Jack Smith"
        ],
        [
         "Tennis Court 2",
         "Janice Joplette"
        ],
        [
         "Tennis Court 1",
         "Janice Joplette"
        ],
        [
         "Tennis Court 1",
         "Jemima Farrell"
        ],
        [
         "Tennis Court 2",
         "Jemima Farrell"
        ],
        [
         "Tennis Court 1",
         "Joan Coplin"
        ],
        [
         "Tennis Court 1",
         "John Hunt"
        ],
        [
         "Tennis Court 2",
         "John Hunt"
        ],
        [
         "Tennis Court 1",
         "Matthew Genting"
        ],
        [
         "Tennis Court 2",
         "Millicent Purview"
        ],
        [
         "Tennis Court 1",
         "Nancy Dare"
        ],
        [
         "Tennis Court 2",
         "Nancy Dare"
        ],
        [
         "Tennis Court 1",
         "Ponder Stibbons"
        ],
        [
         "Tennis Court 2",
         "Ponder Stibbons"
        ],
        [
         "Tennis Court 2",
         "Ramnaresh Sarwin"
        ],
        [
         "Tennis Court 1",
         "Ramnaresh Sarwin"
        ],
        [
         "Tennis Court 1",
         "Tim Boothe"
        ],
        [
         "Tennis Court 2",
         "Tim Boothe"
        ],
        [
         "Tennis Court 1",
         "Tim Rownam"
        ],
        [
         "Tennis Court 2",
         "Tim Rownam"
        ],
        [
         "Tennis Court 2",
         "Timothy Baker"
        ],
        [
         "Tennis Court 1",
         "Timothy Baker"
        ],
        [
         "Tennis Court 2",
         "Tracy Smith"
        ],
        [
         "Tennis Court 1",
         "Tracy Smith"
        ]
       ],
       "datasetInfos": [],
       "dbfsResultPath": null,
       "isJsonSchema": true,
       "metadata": {},
       "overflow": false,
       "plotOptions": {
        "customPlotOptions": {},
        "displayType": "table",
        "pivotAggregation": null,
        "pivotColumns": null,
        "xColumns": null,
        "yColumns": null
       },
       "removedWidgets": [],
       "schema": [
        {
         "metadata": "{}",
         "name": "courtName",
         "type": "\"string\""
        },
        {
         "metadata": "{}",
         "name": "memberName",
         "type": "\"string\""
        }
       ],
       "type": "table"
      }
     },
     "output_type": "display_data"
    }
   ],
   "source": [
    "%sql\n",
    "\n",
    "with tennis as (\n",
    "  select f.name courtName, (m.firstname || ' ' || m.surname) memberName \n",
    "  from members m \n",
    "    inner join bookings b on b.memid = m.memid \n",
    "    inner join facilities f on f.facid = b.facid and f.name like '%Tennis Court%'\n",
    ")\n",
    "\n",
    "select distinct *\n",
    "from tennis\n",
    "order by memberName"
   ]
  },
  {
   "cell_type": "markdown",
   "metadata": {
    "application/vnd.databricks.v1+cell": {
     "cellMetadata": {
      "byteLimit": 2048000,
      "rowLimit": 10000
     },
     "inputWidgets": {},
     "nuid": "651160c2-53ca-4c0d-901c-3e362b1ecde6",
     "showTitle": false,
     "title": ""
    }
   },
   "source": [
    "#### Q8: How can you produce a list of bookings on the day of 2012-09-14 which will cost the member (or guest) more than $30? \n",
    "\n",
    "- Remember that guests have different costs to members (the listed costs are per half-hour 'slot')\n",
    "- The guest user's ID is always 0. \n",
    "\n",
    "#### Include in your output the name of the facility, the name of the member formatted as a single column, and the cost.\n",
    "\n",
    "- Order by descending cost, and do not use any subqueries."
   ]
  },
  {
   "cell_type": "code",
   "execution_count": 0,
   "metadata": {
    "application/vnd.databricks.v1+cell": {
     "cellMetadata": {
      "byteLimit": 2048000,
      "implicitDf": true,
      "rowLimit": 10000
     },
     "inputWidgets": {},
     "nuid": "94ac6a7e-2070-4668-af55-0b4d2c136208",
     "showTitle": false,
     "title": ""
    }
   },
   "outputs": [
    {
     "output_type": "display_data",
     "data": {
      "text/html": [
       "<style scoped>\n",
       "  .table-result-container {\n",
       "    max-height: 300px;\n",
       "    overflow: auto;\n",
       "  }\n",
       "  table, th, td {\n",
       "    border: 1px solid black;\n",
       "    border-collapse: collapse;\n",
       "  }\n",
       "  th, td {\n",
       "    padding: 5px;\n",
       "  }\n",
       "  th {\n",
       "    text-align: left;\n",
       "  }\n",
       "</style><div class='table-result-container'><table class='table-result'><thead style='background-color: white'><tr><th>facilityName</th><th>memberName</th><th>totalCost</th></tr></thead><tbody><tr><td>Massage Room 2</td><td>GUESTGUEST</td><td>320.0</td></tr><tr><td>Massage Room 1</td><td>GUESTGUEST</td><td>160.0</td></tr><tr><td>Massage Room 1</td><td>GUESTGUEST</td><td>160.0</td></tr><tr><td>Massage Room 1</td><td>GUESTGUEST</td><td>160.0</td></tr><tr><td>Tennis Court 2</td><td>GUESTGUEST</td><td>150.0</td></tr><tr><td>Tennis Court 1</td><td>GUESTGUEST</td><td>75.0</td></tr><tr><td>Tennis Court 1</td><td>GUESTGUEST</td><td>75.0</td></tr><tr><td>Tennis Court 2</td><td>GUESTGUEST</td><td>75.0</td></tr><tr><td>Squash Court</td><td>GUESTGUEST</td><td>70.0</td></tr><tr><td>Massage Room 1</td><td>JemimaFarrell</td><td>39.6</td></tr><tr><td>Squash Court</td><td>GUESTGUEST</td><td>35.0</td></tr><tr><td>Squash Court</td><td>GUESTGUEST</td><td>35.0</td></tr></tbody></table></div>"
      ]
     },
     "metadata": {
      "application/vnd.databricks.v1+output": {
       "addedWidgets": {},
       "aggData": [],
       "aggError": "",
       "aggOverflow": false,
       "aggSchema": [],
       "aggSeriesLimitReached": false,
       "aggType": "",
       "arguments": {},
       "columnCustomDisplayInfos": {},
       "data": [
        [
         "Massage Room 2",
         "GUESTGUEST",
         320.0
        ],
        [
         "Massage Room 1",
         "GUESTGUEST",
         160.0
        ],
        [
         "Massage Room 1",
         "GUESTGUEST",
         160.0
        ],
        [
         "Massage Room 1",
         "GUESTGUEST",
         160.0
        ],
        [
         "Tennis Court 2",
         "GUESTGUEST",
         150.0
        ],
        [
         "Tennis Court 1",
         "GUESTGUEST",
         75.0
        ],
        [
         "Tennis Court 1",
         "GUESTGUEST",
         75.0
        ],
        [
         "Tennis Court 2",
         "GUESTGUEST",
         75.0
        ],
        [
         "Squash Court",
         "GUESTGUEST",
         70.0
        ],
        [
         "Massage Room 1",
         "JemimaFarrell",
         39.6
        ],
        [
         "Squash Court",
         "GUESTGUEST",
         35.0
        ],
        [
         "Squash Court",
         "GUESTGUEST",
         35.0
        ]
       ],
       "datasetInfos": [],
       "dbfsResultPath": null,
       "isJsonSchema": true,
       "metadata": {},
       "overflow": false,
       "plotOptions": {
        "customPlotOptions": {},
        "displayType": "table",
        "pivotAggregation": null,
        "pivotColumns": null,
        "xColumns": null,
        "yColumns": null
       },
       "removedWidgets": [],
       "schema": [
        {
         "metadata": "{}",
         "name": "facilityName",
         "type": "\"string\""
        },
        {
         "metadata": "{}",
         "name": "memberName",
         "type": "\"string\""
        },
        {
         "metadata": "{}",
         "name": "totalCost",
         "type": "\"double\""
        }
       ],
       "type": "table"
      }
     },
     "output_type": "display_data"
    }
   ],
   "source": [
    "%sql\n",
    "\n",
    "with costTable as (\n",
    "  select f.name as facilityName\n",
    "    , (m.firstname || m.surname) memberName\n",
    "    , (b.slots * (case when b.memid = 0 Then f.guestcost else f.membercost end)) totalCost\n",
    "    , b.starttime starttime\n",
    "  from bookings b\n",
    "    inner join facilities f on f.facid = b.facid\n",
    "    inner join members m on m.memid = b.memid\n",
    ")\n",
    "\n",
    "select facilityName, memberName, totalCost\n",
    "from costTable\n",
    "where (starttime between '2012-09-14' and '2012-09-15') and totalCost > 30\n",
    "order by totalCost desc\n",
    "     \n",
    "\n"
   ]
  },
  {
   "cell_type": "markdown",
   "metadata": {
    "application/vnd.databricks.v1+cell": {
     "cellMetadata": {
      "byteLimit": 2048000,
      "rowLimit": 10000
     },
     "inputWidgets": {},
     "nuid": "3e5be2cd-f638-4692-9e61-71d996072459",
     "showTitle": false,
     "title": ""
    }
   },
   "source": [
    "#### Q9: This time, produce the same result as in Q8, but using a subquery."
   ]
  },
  {
   "cell_type": "code",
   "execution_count": 0,
   "metadata": {
    "application/vnd.databricks.v1+cell": {
     "cellMetadata": {
      "byteLimit": 2048000,
      "implicitDf": true,
      "rowLimit": 10000
     },
     "inputWidgets": {},
     "nuid": "a8c765b1-df09-4ff9-ba0a-810ebb9bbb35",
     "showTitle": false,
     "title": ""
    }
   },
   "outputs": [
    {
     "output_type": "display_data",
     "data": {
      "text/html": [
       "<style scoped>\n",
       "  .table-result-container {\n",
       "    max-height: 300px;\n",
       "    overflow: auto;\n",
       "  }\n",
       "  table, th, td {\n",
       "    border: 1px solid black;\n",
       "    border-collapse: collapse;\n",
       "  }\n",
       "  th, td {\n",
       "    padding: 5px;\n",
       "  }\n",
       "  th {\n",
       "    text-align: left;\n",
       "  }\n",
       "</style><div class='table-result-container'><table class='table-result'><thead style='background-color: white'><tr><th>facilityName</th><th>memberName</th><th>totalCost</th></tr></thead><tbody><tr><td>Massage Room 2</td><td>GUESTGUEST</td><td>320.0</td></tr><tr><td>Massage Room 1</td><td>GUESTGUEST</td><td>160.0</td></tr><tr><td>Massage Room 1</td><td>GUESTGUEST</td><td>160.0</td></tr><tr><td>Massage Room 1</td><td>GUESTGUEST</td><td>160.0</td></tr><tr><td>Tennis Court 2</td><td>GUESTGUEST</td><td>150.0</td></tr><tr><td>Tennis Court 1</td><td>GUESTGUEST</td><td>75.0</td></tr><tr><td>Tennis Court 1</td><td>GUESTGUEST</td><td>75.0</td></tr><tr><td>Tennis Court 2</td><td>GUESTGUEST</td><td>75.0</td></tr><tr><td>Squash Court</td><td>GUESTGUEST</td><td>70.0</td></tr><tr><td>Massage Room 1</td><td>JemimaFarrell</td><td>39.6</td></tr><tr><td>Squash Court</td><td>GUESTGUEST</td><td>35.0</td></tr><tr><td>Squash Court</td><td>GUESTGUEST</td><td>35.0</td></tr></tbody></table></div>"
      ]
     },
     "metadata": {
      "application/vnd.databricks.v1+output": {
       "addedWidgets": {},
       "aggData": [],
       "aggError": "",
       "aggOverflow": false,
       "aggSchema": [],
       "aggSeriesLimitReached": false,
       "aggType": "",
       "arguments": {},
       "columnCustomDisplayInfos": {},
       "data": [
        [
         "Massage Room 2",
         "GUESTGUEST",
         320.0
        ],
        [
         "Massage Room 1",
         "GUESTGUEST",
         160.0
        ],
        [
         "Massage Room 1",
         "GUESTGUEST",
         160.0
        ],
        [
         "Massage Room 1",
         "GUESTGUEST",
         160.0
        ],
        [
         "Tennis Court 2",
         "GUESTGUEST",
         150.0
        ],
        [
         "Tennis Court 1",
         "GUESTGUEST",
         75.0
        ],
        [
         "Tennis Court 1",
         "GUESTGUEST",
         75.0
        ],
        [
         "Tennis Court 2",
         "GUESTGUEST",
         75.0
        ],
        [
         "Squash Court",
         "GUESTGUEST",
         70.0
        ],
        [
         "Massage Room 1",
         "JemimaFarrell",
         39.6
        ],
        [
         "Squash Court",
         "GUESTGUEST",
         35.0
        ],
        [
         "Squash Court",
         "GUESTGUEST",
         35.0
        ]
       ],
       "datasetInfos": [],
       "dbfsResultPath": null,
       "isJsonSchema": true,
       "metadata": {},
       "overflow": false,
       "plotOptions": {
        "customPlotOptions": {},
        "displayType": "table",
        "pivotAggregation": null,
        "pivotColumns": null,
        "xColumns": null,
        "yColumns": null
       },
       "removedWidgets": [],
       "schema": [
        {
         "metadata": "{}",
         "name": "facilityName",
         "type": "\"string\""
        },
        {
         "metadata": "{}",
         "name": "memberName",
         "type": "\"string\""
        },
        {
         "metadata": "{}",
         "name": "totalCost",
         "type": "\"double\""
        }
       ],
       "type": "table"
      }
     },
     "output_type": "display_data"
    }
   ],
   "source": [
    "%sql\n",
    "with costTable as (\n",
    "  select f.name as facilityName\n",
    "    , (m.firstname || m.surname) memberName\n",
    "    , (b.slots * (case when b.memid = 0 Then f.guestcost else f.membercost end)) totalCost\n",
    "    , b.starttime starttime\n",
    "  from bookings b\n",
    "    inner join facilities f on f.facid = b.facid\n",
    "    inner join members m on m.memid = b.memid\n",
    ")\n",
    "\n",
    "select facilityName, memberName, totalCost\n",
    "from costTable\n",
    "where (starttime between '2012-09-14' and '2012-09-15') and totalCost > 30\n",
    "order by totalCost desc"
   ]
  },
  {
   "cell_type": "markdown",
   "metadata": {
    "application/vnd.databricks.v1+cell": {
     "cellMetadata": {
      "byteLimit": 2048000,
      "rowLimit": 10000
     },
     "inputWidgets": {},
     "nuid": "1abdbe2b-5e05-4de5-b27d-5ee089130128",
     "showTitle": false,
     "title": ""
    }
   },
   "source": [
    "#### Q10: Produce a list of facilities with a total revenue less than 1000.\n",
    "- The output should have facility name and total revenue, sorted by revenue. \n",
    "- Remember that there's a different cost for guests and members!"
   ]
  },
  {
   "cell_type": "code",
   "execution_count": 0,
   "metadata": {
    "application/vnd.databricks.v1+cell": {
     "cellMetadata": {
      "byteLimit": 2048000,
      "implicitDf": true,
      "rowLimit": 10000
     },
     "inputWidgets": {},
     "nuid": "a6eba7a2-2b91-4fc4-bd0b-055383c3cf55",
     "showTitle": false,
     "title": ""
    }
   },
   "outputs": [
    {
     "output_type": "display_data",
     "data": {
      "text/html": [
       "<style scoped>\n",
       "  .table-result-container {\n",
       "    max-height: 300px;\n",
       "    overflow: auto;\n",
       "  }\n",
       "  table, th, td {\n",
       "    border: 1px solid black;\n",
       "    border-collapse: collapse;\n",
       "  }\n",
       "  th, td {\n",
       "    padding: 5px;\n",
       "  }\n",
       "  th {\n",
       "    text-align: left;\n",
       "  }\n",
       "</style><div class='table-result-container'><table class='table-result'><thead style='background-color: white'><tr><th>facilityName</th><th>revenue</th></tr></thead><tbody><tr><td>Massage Room 1</td><td>50351.600000000275</td></tr><tr><td>Massage Room 2</td><td>14454.599999999995</td></tr><tr><td>Tennis Court 2</td><td>14310.0</td></tr><tr><td>Tennis Court 1</td><td>13860.0</td></tr><tr><td>Squash Court</td><td>13468.0</td></tr><tr><td>Badminton Court</td><td>1906.5</td></tr><tr><td>Pool Table</td><td>270.0</td></tr><tr><td>Snooker Table</td><td>240.0</td></tr><tr><td>Table Tennis</td><td>180.0</td></tr></tbody></table></div>"
      ]
     },
     "metadata": {
      "application/vnd.databricks.v1+output": {
       "addedWidgets": {},
       "aggData": [],
       "aggError": "",
       "aggOverflow": false,
       "aggSchema": [],
       "aggSeriesLimitReached": false,
       "aggType": "",
       "arguments": {},
       "columnCustomDisplayInfos": {},
       "data": [
        [
         "Massage Room 1",
         50351.600000000275
        ],
        [
         "Massage Room 2",
         14454.599999999995
        ],
        [
         "Tennis Court 2",
         14310.0
        ],
        [
         "Tennis Court 1",
         13860.0
        ],
        [
         "Squash Court",
         13468.0
        ],
        [
         "Badminton Court",
         1906.5
        ],
        [
         "Pool Table",
         270.0
        ],
        [
         "Snooker Table",
         240.0
        ],
        [
         "Table Tennis",
         180.0
        ]
       ],
       "datasetInfos": [],
       "dbfsResultPath": null,
       "isJsonSchema": true,
       "metadata": {},
       "overflow": false,
       "plotOptions": {
        "customPlotOptions": {},
        "displayType": "table",
        "pivotAggregation": null,
        "pivotColumns": null,
        "xColumns": null,
        "yColumns": null
       },
       "removedWidgets": [],
       "schema": [
        {
         "metadata": "{}",
         "name": "facilityName",
         "type": "\"string\""
        },
        {
         "metadata": "{}",
         "name": "revenue",
         "type": "\"double\""
        }
       ],
       "type": "table"
      }
     },
     "output_type": "display_data"
    }
   ],
   "source": [
    "%sql\n",
    "with incomeTable as (\n",
    "  select f.name as facilityName\n",
    "    , (b.slots * (case when b.memid = 0 Then f.guestcost else f.membercost end)) income\n",
    "  from bookings b\n",
    "    inner join facilities f on f.facid = b.facid\n",
    ")\n",
    "\n",
    "select facilityName, sum(income) revenue\n",
    "from incomeTable\n",
    "group by facilityName\n",
    "order by revenue desc"
   ]
  }
 ],
 "metadata": {
  "application/vnd.databricks.v1+notebook": {
   "dashboards": [],
   "language": "python",
   "notebookMetadata": {
    "mostRecentlyExecutedCommandWithImplicitDF": {
     "commandId": 1282868069887018,
     "dataframes": [
      "_sqldf"
     ]
    },
    "pythonIndentUnit": 4
   },
   "notebookName": "Mini_Project_SQL_with_Spark",
   "widgets": {}
  },
  "name": "Mini_Project_SQL_with_Spark",
  "notebookId": 1931807081501742
 },
 "nbformat": 4,
 "nbformat_minor": 0
}
